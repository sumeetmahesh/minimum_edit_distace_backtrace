{
 "cells": [
  {
   "cell_type": "code",
   "execution_count": null,
   "id": "15235ec1",
   "metadata": {},
   "outputs": [],
   "source": [
    "def backtrace(matrix):\n",
    "#   Input:\n",
    "#      matrix: a matrix of len(source)+1 by len(target)+1 containing minimum edit distances\n",
    "#   Output:\n",
    "#      path: a list of tuples depicitng the path from the minimum edit value to begining of calculation \n",
    "#                    ( Step #, Current Row, Current Col, Edit Distance Value)\n",
    "    \n",
    "    path = []\n",
    "    step_count = 0\n",
    "\n",
    "    cur_row= m-1\n",
    "    cur_col= n-1\n",
    "    cur_val = matrix[cur_row, cur_col]\n",
    "\n",
    "    print('Starting Position and Value')\n",
    "    print('row:',cur_row,'col:',cur_col,'edit distance val:',cur_val)   \n",
    "    path.append((step_count,cur_row,cur_col,cur_val))\n",
    "\n",
    "    while cur_val != 0:\n",
    "        if cur_row <= 0:\n",
    "            cur_row = 0\n",
    "            if cur_col <= 0:\n",
    "                cur_col = 0\n",
    "\n",
    "        next_temp = np.argmin(np.array([matrix[cur_row-1,cur_col], matrix[cur_row, cur_col-1], matrix[cur_row-1, cur_col-1]]))\n",
    "        step_count += 1\n",
    "\n",
    "        if next_temp == 0:\n",
    "            cur_row = cur_row - 1\n",
    "            cur_col = cur_col\n",
    "\n",
    "        if next_temp == 1:\n",
    "            cur_row= cur_row\n",
    "            cur_col= cur_col - 1\n",
    "\n",
    "        if next_temp == 2:\n",
    "            cur_row = cur_row -1\n",
    "            cur_col = cur_col - 1\n",
    "\n",
    "        cur_val= matrix[cur_row, cur_col]    \n",
    "        print('step:',step_count,'row:',cur_row,'col:',cur_col,'edit distance val:',cur_val)  \n",
    "        path.append((step_count,cur_row,cur_col,cur_val))\n",
    "    \n",
    "    return path"
   ]
  }
 ],
 "metadata": {
  "kernelspec": {
   "display_name": "Python 3 (ipykernel)",
   "language": "python",
   "name": "python3"
  },
  "language_info": {
   "codemirror_mode": {
    "name": "ipython",
    "version": 3
   },
   "file_extension": ".py",
   "mimetype": "text/x-python",
   "name": "python",
   "nbconvert_exporter": "python",
   "pygments_lexer": "ipython3",
   "version": "3.9.16"
  }
 },
 "nbformat": 4,
 "nbformat_minor": 5
}
